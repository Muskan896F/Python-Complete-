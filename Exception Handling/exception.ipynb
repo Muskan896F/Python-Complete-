{
 "cells": [
  {
   "cell_type": "markdown",
   "id": "9bbf6aa5-a12e-44a1-a74e-795b5c955a72",
   "metadata": {},
   "source": [
    "# Exception Handling "
   ]
  },
  {
   "cell_type": "code",
   "execution_count": 3,
   "id": "c17ab059-cd02-4004-b2ab-dc84f3ade4b9",
   "metadata": {},
   "outputs": [
    {
     "ename": "NameError",
     "evalue": "name 'a' is not defined",
     "output_type": "error",
     "traceback": [
      "\u001b[0;31m---------------------------------------------------------------------------\u001b[0m",
      "\u001b[0;31mNameError\u001b[0m                                 Traceback (most recent call last)",
      "Cell \u001b[0;32mIn [3], line 1\u001b[0m\n\u001b[0;32m----> 1\u001b[0m \u001b[38;5;28mprint\u001b[39m(\u001b[43ma\u001b[49m)\n",
      "\u001b[0;31mNameError\u001b[0m: name 'a' is not defined"
     ]
    }
   ],
   "source": [
    "print(a)"
   ]
  },
  {
   "cell_type": "code",
   "execution_count": 1,
   "id": "04315e3a-b125-457d-b8c7-cdf6cb1ec02d",
   "metadata": {},
   "outputs": [
    {
     "ename": "NameError",
     "evalue": "name 'func' is not defined",
     "output_type": "error",
     "traceback": [
      "\u001b[0;31m---------------------------------------------------------------------------\u001b[0m",
      "\u001b[0;31mNameError\u001b[0m                                 Traceback (most recent call last)",
      "Cell \u001b[0;32mIn [1], line 6\u001b[0m\n\u001b[1;32m      2\u001b[0m     a \u001b[38;5;241m=\u001b[39m \u001b[38;5;124m\"\u001b[39m\u001b[38;5;124mhello\u001b[39m\u001b[38;5;124m\"\u001b[39m\n\u001b[1;32m      3\u001b[0m     \u001b[38;5;28mprint\u001b[39m(a\u001b[38;5;241m+\u001b[39m\u001b[38;5;241m2\u001b[39m)\n\u001b[0;32m----> 6\u001b[0m \u001b[43mfunc\u001b[49m(\u001b[38;5;241m2\u001b[39m)\n",
      "\u001b[0;31mNameError\u001b[0m: name 'func' is not defined"
     ]
    }
   ],
   "source": [
    "def func1(l):\n",
    "    a = \"hello\"\n",
    "    print(a+2)\n",
    "    \n",
    "    \n",
    "func(2)"
   ]
  },
  {
   "cell_type": "code",
   "execution_count": null,
   "id": "30c1c37c-9f8f-4ecc-96d2-68c5db08c76d",
   "metadata": {},
   "outputs": [],
   "source": [
    "colon \n",
    "indentatin \n",
    "keyword \n",
    "\n",
    "\n",
    "value error \n",
    "type error \n",
    "name error \n",
    "key error \n"
   ]
  },
  {
   "cell_type": "markdown",
   "id": "1dad25bc-b325-44f7-84f3-a3b116922f55",
   "metadata": {},
   "source": [
    "# syntax Error "
   ]
  },
  {
   "cell_type": "code",
   "execution_count": 8,
   "id": "ad2953f8-8310-46d2-90b9-4dbea862ba89",
   "metadata": {},
   "outputs": [
    {
     "name": "stdout",
     "output_type": "stream",
     "text": [
      "4\n"
     ]
    }
   ],
   "source": [
    "def fun ():\n",
    "    print(\"4\")\n",
    "fun()"
   ]
  },
  {
   "cell_type": "code",
   "execution_count": 13,
   "id": "9ece7418-263b-4216-a140-5104bde3723d",
   "metadata": {},
   "outputs": [
    {
     "ename": "SyntaxError",
     "evalue": "closing parenthesis ']' does not match opening parenthesis '(' (1895944176.py, line 1)",
     "output_type": "error",
     "traceback": [
      "\u001b[0;36m  Cell \u001b[0;32mIn [13], line 1\u001b[0;36m\u001b[0m\n\u001b[0;31m    l = (1,2,3,46 , ]\u001b[0m\n\u001b[0m                    ^\u001b[0m\n\u001b[0;31mSyntaxError\u001b[0m\u001b[0;31m:\u001b[0m closing parenthesis ']' does not match opening parenthesis '('\n"
     ]
    }
   ],
   "source": [
    "l = (1,2,3,46 , ]"
   ]
  },
  {
   "cell_type": "code",
   "execution_count": 14,
   "id": "7970e353-e101-4a28-8221-2e3bceb583b4",
   "metadata": {},
   "outputs": [
    {
     "ename": "SyntaxError",
     "evalue": "unterminated string literal (detected at line 1) (4158002614.py, line 1)",
     "output_type": "error",
     "traceback": [
      "\u001b[0;36m  Cell \u001b[0;32mIn [14], line 1\u001b[0;36m\u001b[0m\n\u001b[0;31m    a = \"name\u001b[0m\n\u001b[0m        ^\u001b[0m\n\u001b[0;31mSyntaxError\u001b[0m\u001b[0;31m:\u001b[0m unterminated string literal (detected at line 1)\n"
     ]
    }
   ],
   "source": [
    "a = \"name"
   ]
  },
  {
   "cell_type": "code",
   "execution_count": 15,
   "id": "57b3a9df-cb6f-49a5-89de-40d6ead53f01",
   "metadata": {},
   "outputs": [
    {
     "ename": "SyntaxError",
     "evalue": "invalid syntax (3039934606.py, line 1)",
     "output_type": "error",
     "traceback": [
      "\u001b[0;36m  Cell \u001b[0;32mIn [15], line 1\u001b[0;36m\u001b[0m\n\u001b[0;31m    for = 5\u001b[0m\n\u001b[0m        ^\u001b[0m\n\u001b[0;31mSyntaxError\u001b[0m\u001b[0;31m:\u001b[0m invalid syntax\n"
     ]
    }
   ],
   "source": [
    "for = 5"
   ]
  },
  {
   "cell_type": "markdown",
   "id": "cdc54154-e60d-4efe-bf4a-fd7e7b7b9382",
   "metadata": {},
   "source": [
    "# runtime Error "
   ]
  },
  {
   "cell_type": "markdown",
   "id": "64fa9d19-b8f6-42e9-98ec-c8bed098568f",
   "metadata": {},
   "source": [
    "a = 10 \n",
    "b = 0 \n",
    "c = a/b"
   ]
  },
  {
   "cell_type": "code",
   "execution_count": 18,
   "id": "94552f8b-2b30-4870-9635-60d0cb9b61ae",
   "metadata": {},
   "outputs": [
    {
     "ename": "ZeroDivisionError",
     "evalue": "division by zero",
     "output_type": "error",
     "traceback": [
      "\u001b[0;31m---------------------------------------------------------------------------\u001b[0m",
      "\u001b[0;31mZeroDivisionError\u001b[0m                         Traceback (most recent call last)",
      "Cell \u001b[0;32mIn [18], line 3\u001b[0m\n\u001b[1;32m      1\u001b[0m a \u001b[38;5;241m=\u001b[39m \u001b[38;5;241m10\u001b[39m \n\u001b[1;32m      2\u001b[0m b \u001b[38;5;241m=\u001b[39m \u001b[38;5;241m0\u001b[39m \n\u001b[0;32m----> 3\u001b[0m c \u001b[38;5;241m=\u001b[39m \u001b[43ma\u001b[49m\u001b[38;5;241;43m/\u001b[39;49m\u001b[43mb\u001b[49m\n",
      "\u001b[0;31mZeroDivisionError\u001b[0m: division by zero"
     ]
    }
   ],
   "source": [
    "a = 10 \n",
    "b = 0 \n",
    "c = a/b"
   ]
  },
  {
   "cell_type": "code",
   "execution_count": 22,
   "id": "3180f130-3107-4196-98b6-83d8f87ff5b1",
   "metadata": {},
   "outputs": [
    {
     "ename": "IndexError",
     "evalue": "list index out of range",
     "output_type": "error",
     "traceback": [
      "\u001b[0;31m---------------------------------------------------------------------------\u001b[0m",
      "\u001b[0;31mIndexError\u001b[0m                                Traceback (most recent call last)",
      "Cell \u001b[0;32mIn [22], line 2\u001b[0m\n\u001b[1;32m      1\u001b[0m l \u001b[38;5;241m=\u001b[39m [\u001b[38;5;241m12\u001b[39m,\u001b[38;5;241m4\u001b[39m,\u001b[38;5;241m3\u001b[39m,\u001b[38;5;241m43\u001b[39m]\n\u001b[0;32m----> 2\u001b[0m \u001b[43ml\u001b[49m\u001b[43m[\u001b[49m\u001b[38;5;241;43m6\u001b[39;49m\u001b[43m]\u001b[49m\n",
      "\u001b[0;31mIndexError\u001b[0m: list index out of range"
     ]
    }
   ],
   "source": [
    "l = [12,4,3,43]       \n",
    "l[6]"
   ]
  },
  {
   "cell_type": "code",
   "execution_count": 26,
   "id": "31aa4851-5053-4b7c-bfed-43a906697e7e",
   "metadata": {},
   "outputs": [
    {
     "ename": "TypeError",
     "evalue": "unsupported operand type(s) for +: 'int' and 'str'",
     "output_type": "error",
     "traceback": [
      "\u001b[0;31m---------------------------------------------------------------------------\u001b[0m",
      "\u001b[0;31mTypeError\u001b[0m                                 Traceback (most recent call last)",
      "Cell \u001b[0;32mIn [26], line 1\u001b[0m\n\u001b[0;32m----> 1\u001b[0m a \u001b[38;5;241m=\u001b[39m \u001b[38;5;241;43m12\u001b[39;49m\u001b[43m \u001b[49m\u001b[38;5;241;43m+\u001b[39;49m\u001b[43m \u001b[49m\u001b[38;5;124;43m\"\u001b[39;49m\u001b[38;5;124;43mfdsfs\u001b[39;49m\u001b[38;5;124;43m\"\u001b[39;49m\n\u001b[1;32m      2\u001b[0m a\n",
      "\u001b[0;31mTypeError\u001b[0m: unsupported operand type(s) for +: 'int' and 'str'"
     ]
    }
   ],
   "source": [
    "a = 12 + \"fdsfs\"\n",
    "a"
   ]
  },
  {
   "cell_type": "code",
   "execution_count": 30,
   "id": "f781f059-e27c-4cd9-9c8a-d5f67bd5d9d2",
   "metadata": {},
   "outputs": [
    {
     "ename": "ModuleNotFoundError",
     "evalue": "No module named 'maths'",
     "output_type": "error",
     "traceback": [
      "\u001b[0;31m---------------------------------------------------------------------------\u001b[0m",
      "\u001b[0;31mModuleNotFoundError\u001b[0m                       Traceback (most recent call last)",
      "Cell \u001b[0;32mIn [30], line 1\u001b[0m\n\u001b[0;32m----> 1\u001b[0m \u001b[38;5;28;01mimport\u001b[39;00m \u001b[38;5;21;01mmaths\u001b[39;00m\n\u001b[1;32m      2\u001b[0m math\u001b[38;5;241m.\u001b[39msqrt(\u001b[38;5;241m2\u001b[39m)\n",
      "\u001b[0;31mModuleNotFoundError\u001b[0m: No module named 'maths'"
     ]
    }
   ],
   "source": [
    "import maths\n",
    "math.sqrt(2)"
   ]
  },
  {
   "cell_type": "code",
   "execution_count": 32,
   "id": "c2fe4398-4a2c-4189-86ea-e3b4ec9e95cc",
   "metadata": {},
   "outputs": [
    {
     "ename": "ValueError",
     "evalue": "math domain error",
     "output_type": "error",
     "traceback": [
      "\u001b[0;31m---------------------------------------------------------------------------\u001b[0m",
      "\u001b[0;31mValueError\u001b[0m                                Traceback (most recent call last)",
      "Cell \u001b[0;32mIn [32], line 2\u001b[0m\n\u001b[1;32m      1\u001b[0m \u001b[38;5;28;01mimport\u001b[39;00m \u001b[38;5;21;01mmath\u001b[39;00m\n\u001b[0;32m----> 2\u001b[0m \u001b[43mmath\u001b[49m\u001b[38;5;241;43m.\u001b[39;49m\u001b[43msqrt\u001b[49m\u001b[43m(\u001b[49m\u001b[38;5;241;43m-\u001b[39;49m\u001b[38;5;241;43m2\u001b[39;49m\u001b[43m)\u001b[49m\n",
      "\u001b[0;31mValueError\u001b[0m: math domain error"
     ]
    }
   ],
   "source": [
    "import math\n",
    "math.sqrt(-2)"
   ]
  },
  {
   "cell_type": "code",
   "execution_count": 35,
   "id": "d3d74ec4-b925-4c42-b346-a78587439f43",
   "metadata": {},
   "outputs": [
    {
     "ename": "ValueError",
     "evalue": "invalid literal for int() with base 10: 'pri'",
     "output_type": "error",
     "traceback": [
      "\u001b[0;31m---------------------------------------------------------------------------\u001b[0m",
      "\u001b[0;31mValueError\u001b[0m                                Traceback (most recent call last)",
      "Cell \u001b[0;32mIn [35], line 1\u001b[0m\n\u001b[0;32m----> 1\u001b[0m a \u001b[38;5;241m=\u001b[39m \u001b[38;5;28;43mint\u001b[39;49m\u001b[43m(\u001b[49m\u001b[38;5;124;43m'\u001b[39;49m\u001b[38;5;124;43mpri\u001b[39;49m\u001b[38;5;124;43m'\u001b[39;49m\u001b[43m)\u001b[49m\n\u001b[1;32m      2\u001b[0m a\n",
      "\u001b[0;31mValueError\u001b[0m: invalid literal for int() with base 10: 'pri'"
     ]
    }
   ],
   "source": [
    "a = int('pri')\n",
    "a"
   ]
  },
  {
   "cell_type": "code",
   "execution_count": 40,
   "id": "b557c5fe-f89b-4d97-ac2e-d540060b924a",
   "metadata": {},
   "outputs": [
    {
     "ename": "KeyError",
     "evalue": "'c'",
     "output_type": "error",
     "traceback": [
      "\u001b[0;31m---------------------------------------------------------------------------\u001b[0m",
      "\u001b[0;31mKeyError\u001b[0m                                  Traceback (most recent call last)",
      "Cell \u001b[0;32mIn [40], line 2\u001b[0m\n\u001b[1;32m      1\u001b[0m d \u001b[38;5;241m=\u001b[39m {\u001b[38;5;124m'\u001b[39m\u001b[38;5;124ma\u001b[39m\u001b[38;5;124m'\u001b[39m:\u001b[38;5;241m1\u001b[39m , \u001b[38;5;124m'\u001b[39m\u001b[38;5;124mb\u001b[39m\u001b[38;5;124m'\u001b[39m: \u001b[38;5;241m2\u001b[39m}\n\u001b[0;32m----> 2\u001b[0m \u001b[43md\u001b[49m\u001b[43m[\u001b[49m\u001b[38;5;124;43m'\u001b[39;49m\u001b[38;5;124;43mc\u001b[39;49m\u001b[38;5;124;43m'\u001b[39;49m\u001b[43m]\u001b[49m\n",
      "\u001b[0;31mKeyError\u001b[0m: 'c'"
     ]
    }
   ],
   "source": [
    "d = {'a':1 , 'b': 2}\n",
    "d['c']"
   ]
  },
  {
   "cell_type": "code",
   "execution_count": 43,
   "id": "5a52f3cf-b686-47e4-8a36-5921e9b7cdf6",
   "metadata": {},
   "outputs": [
    {
     "ename": "AttributeError",
     "evalue": "'int' object has no attribute 'append'",
     "output_type": "error",
     "traceback": [
      "\u001b[0;31m---------------------------------------------------------------------------\u001b[0m",
      "\u001b[0;31mAttributeError\u001b[0m                            Traceback (most recent call last)",
      "Cell \u001b[0;32mIn [43], line 3\u001b[0m\n\u001b[1;32m      1\u001b[0m a\u001b[38;5;241m=\u001b[39m \u001b[38;5;241m3\u001b[39m\n\u001b[1;32m      2\u001b[0m \u001b[38;5;28mtype\u001b[39m(a)\n\u001b[0;32m----> 3\u001b[0m \u001b[43ma\u001b[49m\u001b[38;5;241;43m.\u001b[39;49m\u001b[43mappend\u001b[49m(\u001b[38;5;241m9\u001b[39m)\n",
      "\u001b[0;31mAttributeError\u001b[0m: 'int' object has no attribute 'append'"
     ]
    }
   ],
   "source": [
    "a= 3\n",
    "type(a)\n",
    "a.append(9)"
   ]
  },
  {
   "cell_type": "code",
   "execution_count": 44,
   "id": "a3329465-cac3-4d76-8c89-f77d55d5c9ee",
   "metadata": {},
   "outputs": [
    {
     "data": {
      "text/plain": [
       "int"
      ]
     },
     "execution_count": 44,
     "metadata": {},
     "output_type": "execute_result"
    }
   ],
   "source": [
    "type(a)"
   ]
  },
  {
   "cell_type": "code",
   "execution_count": 46,
   "id": "469541d7-09b6-43eb-8c40-8cd0832f0c8b",
   "metadata": {},
   "outputs": [
    {
     "ename": "FileNotFoundError",
     "evalue": "[Errno 2] No such file or directory: 'file.txt'",
     "output_type": "error",
     "traceback": [
      "\u001b[0;31m---------------------------------------------------------------------------\u001b[0m",
      "\u001b[0;31mFileNotFoundError\u001b[0m                         Traceback (most recent call last)",
      "Cell \u001b[0;32mIn [46], line 1\u001b[0m\n\u001b[0;32m----> 1\u001b[0m \u001b[38;5;28;01mwith\u001b[39;00m \u001b[38;5;28;43mopen\u001b[39;49m\u001b[43m(\u001b[49m\u001b[38;5;124;43m'\u001b[39;49m\u001b[38;5;124;43mfile.txt\u001b[39;49m\u001b[38;5;124;43m'\u001b[39;49m\u001b[43m,\u001b[49m\u001b[38;5;124;43m'\u001b[39;49m\u001b[38;5;124;43mr\u001b[39;49m\u001b[38;5;124;43m'\u001b[39;49m\u001b[43m)\u001b[49m \u001b[38;5;28;01mas\u001b[39;00m f :\n\u001b[1;32m      2\u001b[0m     f\u001b[38;5;241m.\u001b[39mread()\n",
      "\u001b[0;31mFileNotFoundError\u001b[0m: [Errno 2] No such file or directory: 'file.txt'"
     ]
    }
   ],
   "source": [
    "with open('file.txt','r') as f :\n",
    "    f.read()"
   ]
  },
  {
   "cell_type": "code",
   "execution_count": 56,
   "id": "c8d90b36-c5b7-4fa1-bee4-d5a617f4f8f5",
   "metadata": {},
   "outputs": [
    {
     "ename": "KeyError",
     "evalue": "'v'",
     "output_type": "error",
     "traceback": [
      "\u001b[0;31m---------------------------------------------------------------------------\u001b[0m",
      "\u001b[0;31mKeyError\u001b[0m                                  Traceback (most recent call last)",
      "Cell \u001b[0;32mIn [56], line 10\u001b[0m\n\u001b[1;32m      6\u001b[0m     a \u001b[38;5;241m=\u001b[39m \u001b[38;5;241m2\u001b[39m\n\u001b[1;32m      7\u001b[0m     \u001b[38;5;28mprint\u001b[39m(a\u001b[38;5;241m+\u001b[39m\u001b[38;5;241m2\u001b[39m)\n\u001b[0;32m---> 10\u001b[0m \u001b[43mfunc1\u001b[49m\u001b[43m(\u001b[49m\u001b[38;5;241;43m2\u001b[39;49m\u001b[43m)\u001b[49m\n",
      "Cell \u001b[0;32mIn [56], line 4\u001b[0m, in \u001b[0;36mfunc1\u001b[0;34m(l)\u001b[0m\n\u001b[1;32m      2\u001b[0m l \u001b[38;5;241m=\u001b[39m[\u001b[38;5;241m21\u001b[39m,\u001b[38;5;241m23\u001b[39m,\u001b[38;5;241m2\u001b[39m]\n\u001b[1;32m      3\u001b[0m d \u001b[38;5;241m=\u001b[39m{\u001b[38;5;124m'\u001b[39m\u001b[38;5;124ma\u001b[39m\u001b[38;5;124m'\u001b[39m: \u001b[38;5;241m2\u001b[39m}\n\u001b[0;32m----> 4\u001b[0m \u001b[43md\u001b[49m\u001b[43m[\u001b[49m\u001b[38;5;124;43m'\u001b[39;49m\u001b[38;5;124;43mv\u001b[39;49m\u001b[38;5;124;43m'\u001b[39;49m\u001b[43m]\u001b[49m\n\u001b[1;32m      5\u001b[0m l[\u001b[38;5;241m2\u001b[39m]\n\u001b[1;32m      6\u001b[0m a \u001b[38;5;241m=\u001b[39m \u001b[38;5;241m2\u001b[39m\n",
      "\u001b[0;31mKeyError\u001b[0m: 'v'"
     ]
    }
   ],
   "source": [
    "def func1(l):\n",
    "    l =[21,23,2]\n",
    "    d ={'a': 2}\n",
    "    d['v']\n",
    "    l[2]\n",
    "    a = 2\n",
    "    print(a+2)\n",
    "    \n",
    "    \n",
    "func1(2)"
   ]
  },
  {
   "cell_type": "markdown",
   "id": "c843d389-4337-461f-82b8-042b709b7bde",
   "metadata": {},
   "source": [
    "# why "
   ]
  },
  {
   "cell_type": "code",
   "execution_count": null,
   "id": "d3fec9b5-c732-4f18-a65c-deeef863b4ea",
   "metadata": {},
   "outputs": [],
   "source": [
    "Data security \n",
    "code crash \n",
    "user experiance "
   ]
  },
  {
   "cell_type": "markdown",
   "id": "0c11b906-7d7a-4d56-aafa-47433cf1fe53",
   "metadata": {},
   "source": [
    "# how we can handle the error "
   ]
  },
  {
   "cell_type": "code",
   "execution_count": null,
   "id": "b0385def-5b66-426c-a52d-f8247b1690a3",
   "metadata": {},
   "outputs": [],
   "source": [
    "try: \n",
    "    \n",
    "except :\n",
    "    \n",
    "    \n",
    "else: \n",
    "    \n",
    "finally: \n",
    "    "
   ]
  },
  {
   "cell_type": "code",
   "execution_count": 63,
   "id": "9961f558-7808-4d6d-858e-f2f904c052be",
   "metadata": {},
   "outputs": [
    {
     "name": "stdout",
     "output_type": "stream",
     "text": [
      "list index out of range\n"
     ]
    }
   ],
   "source": [
    "try:\n",
    "    l=[1,2,4,5]\n",
    "    l[8]\n",
    "    a = 10 \n",
    "    b = 0 \n",
    "    c = a/b\n",
    "\n",
    "except Exception as e :\n",
    "    print(e)\n"
   ]
  },
  {
   "cell_type": "code",
   "execution_count": 61,
   "id": "721947d0-5da1-4ec5-a743-01f49c6ad984",
   "metadata": {},
   "outputs": [
    {
     "ename": "ZeroDivisionError",
     "evalue": "division by zero",
     "output_type": "error",
     "traceback": [
      "\u001b[0;31m---------------------------------------------------------------------------\u001b[0m",
      "\u001b[0;31mZeroDivisionError\u001b[0m                         Traceback (most recent call last)",
      "Cell \u001b[0;32mIn [61], line 3\u001b[0m\n\u001b[1;32m      1\u001b[0m a \u001b[38;5;241m=\u001b[39m \u001b[38;5;241m10\u001b[39m \n\u001b[1;32m      2\u001b[0m b \u001b[38;5;241m=\u001b[39m \u001b[38;5;241m0\u001b[39m \n\u001b[0;32m----> 3\u001b[0m c \u001b[38;5;241m=\u001b[39m \u001b[43ma\u001b[49m\u001b[38;5;241;43m/\u001b[39;49m\u001b[43mb\u001b[49m\n",
      "\u001b[0;31mZeroDivisionError\u001b[0m: division by zero"
     ]
    }
   ],
   "source": [
    "a = 10 \n",
    "b = 0 \n",
    "c = a/b"
   ]
  },
  {
   "cell_type": "code",
   "execution_count": 68,
   "id": "82a77fda-7b8d-4b71-9b2e-b4ab849515a5",
   "metadata": {},
   "outputs": [
    {
     "name": "stdout",
     "output_type": "stream",
     "text": [
      "list index out of range\n"
     ]
    }
   ],
   "source": [
    "try:\n",
    "    l=[1,2,4,5]\n",
    "    l[8]\n",
    "    a = 10 \n",
    "    b = 0 \n",
    "    c = a/b\n",
    "\n",
    "    \n",
    "except IndexError as e :\n",
    "    print(e)\n",
    "except ZeroDivisionError as e : \n",
    "    print(e)\n",
    "except Exception as e :\n",
    "    print(e)"
   ]
  },
  {
   "cell_type": "code",
   "execution_count": 83,
   "id": "ee60046d-ef88-42c9-8373-bf3780e5b540",
   "metadata": {},
   "outputs": [
    {
     "name": "stdout",
     "output_type": "stream",
     "text": [
      "unsupported operand type(s) for +: 'int' and 'str'\n",
      "hmm task complete ho gya h \n"
     ]
    }
   ],
   "source": [
    "try: \n",
    "    a = 3 \n",
    "    b = \"d\"\n",
    "    c= a +b \n",
    "    print(c)\n",
    "\n",
    "except Exception as e :\n",
    "    print(e)\n",
    "    \n",
    "else:\n",
    "    print(\"mil gyi file\")\n",
    "    a  = 1 \n",
    "    b = 2 \n",
    "    c=a+b \n",
    "    print(c)\n",
    "    \n",
    "    \n",
    "finally: \n",
    "    print(\"hmm task complete ho gya h \")\n"
   ]
  },
  {
   "cell_type": "markdown",
   "id": "5bbe8a80-db9a-4e5f-a528-126e195ec2f9",
   "metadata": {},
   "source": [
    "# DAY :  2 "
   ]
  },
  {
   "cell_type": "code",
   "execution_count": 1,
   "id": "624b1be5-46b8-4760-ae33-f69ff206d948",
   "metadata": {},
   "outputs": [
    {
     "name": "stdout",
     "output_type": "stream",
     "text": [
      "division by zero\n"
     ]
    }
   ],
   "source": [
    "try:\n",
    "    # l=[1,2,4,5]\n",
    "    # l[8]\n",
    "    a = 10 \n",
    "    b = 0 \n",
    "    c = a/b\n",
    "    l=[1,2,4,5]\n",
    "    l[8]\n",
    "    \n",
    "except IndexError as e :\n",
    "    print(e)\n",
    "except ZeroDivisionError as e : \n",
    "    print(e)\n",
    "except Exception as e :\n",
    "    print(e)"
   ]
  },
  {
   "cell_type": "markdown",
   "id": "05f91ac7-eb24-45a7-8174-9f40706dd6dd",
   "metadata": {},
   "source": [
    "# Nested block"
   ]
  },
  {
   "cell_type": "markdown",
   "id": "39740e5d-c55b-43d8-9d02-a5d4b4f9a7fd",
   "metadata": {},
   "source": [
    "\n"
   ]
  },
  {
   "cell_type": "code",
   "execution_count": 2,
   "id": "9f3a69cf-f8e3-44c6-9bf3-1b2376b13316",
   "metadata": {},
   "outputs": [
    {
     "name": "stdout",
     "output_type": "stream",
     "text": [
      "this is my except block \n",
      "this is my else block try startement \n",
      "this is try inside finally \n"
     ]
    }
   ],
   "source": [
    "try:\n",
    "    try : \n",
    "        a =3 \n",
    "        b = \"d\"\n",
    "        c = a+b\n",
    "        \n",
    "    except:\n",
    "        print(\"this is my except block \")\n",
    "    \n",
    "    \n",
    "except :\n",
    "    print(\"this is my outer except block \")\n",
    "    try:\n",
    "        print(\"this is try inside except \")\n",
    "        \n",
    "    except : \n",
    "        print(\" this is my except inside except \")\n",
    "        \n",
    "        \n",
    "        \n",
    "else: \n",
    "    try :\n",
    "        print(\"this is my else block try startement \")\n",
    "        \n",
    "    except :\n",
    "        print(\" this i smy except inside else\")\n",
    "        \n",
    "        \n",
    "        \n",
    "finally: \n",
    "    try:\n",
    "        print(\"this is try inside finally \")\n",
    "        \n",
    "    except :\n",
    "        print(\" this is my except inside finally\")"
   ]
  },
  {
   "cell_type": "markdown",
   "id": "2cfd8e3b-1a41-48f3-90f1-023ae7941495",
   "metadata": {},
   "source": [
    "\n",
    "\n",
    "# Raise "
   ]
  },
  {
   "cell_type": "markdown",
   "id": "ea3164f0-db5d-4a10-bdad-3818891b31d9",
   "metadata": {},
   "source": []
  },
  {
   "cell_type": "code",
   "execution_count": 13,
   "id": "a667271b-e41c-4147-a653-274b98b8b443",
   "metadata": {},
   "outputs": [
    {
     "ename": "ZeroDivisionError",
     "evalue": "division by zero",
     "output_type": "error",
     "traceback": [
      "\u001b[0;31m---------------------------------------------------------------------------\u001b[0m",
      "\u001b[0;31mZeroDivisionError\u001b[0m                         Traceback (most recent call last)",
      "Cell \u001b[0;32mIn [13], line 3\u001b[0m\n\u001b[1;32m      1\u001b[0m a \u001b[38;5;241m=\u001b[39m \u001b[38;5;241m10\u001b[39m \n\u001b[1;32m      2\u001b[0m b \u001b[38;5;241m=\u001b[39m \u001b[38;5;241m0\u001b[39m \n\u001b[0;32m----> 3\u001b[0m \u001b[43ma\u001b[49m\u001b[38;5;241;43m/\u001b[39;49m\u001b[43mb\u001b[49m\n",
      "\u001b[0;31mZeroDivisionError\u001b[0m: division by zero"
     ]
    }
   ],
   "source": [
    "try:\n",
    "    a = 10 \n",
    "    b = 0 \n",
    "    a/b \n",
    "except:\n",
    "    "
   ]
  },
  {
   "cell_type": "code",
   "execution_count": 21,
   "id": "305dc619-862e-4dd6-82b9-bfca4503576e",
   "metadata": {},
   "outputs": [
    {
     "name": "stdout",
     "output_type": "stream",
     "text": [
      " ajj s apko 5 ghante padai krni h \n"
     ]
    }
   ],
   "source": [
    "rank = 4 \n",
    "try: \n",
    "    if rank==4 : \n",
    "        raise FileNotFoundError(\" ajj s apko 5 ghante padai krni h \")\n",
    "        \n",
    "except Exception as e :\n",
    "    print(e)"
   ]
  },
  {
   "cell_type": "markdown",
   "id": "fdb9d17f-3c20-428d-b8e8-86b5ee5505ef",
   "metadata": {},
   "source": [
    "# where "
   ]
  },
  {
   "cell_type": "code",
   "execution_count": 4,
   "id": "c84d414d-e38a-4420-8316-8d4fd576d096",
   "metadata": {},
   "outputs": [
    {
     "name": "stdout",
     "output_type": "stream",
     "text": [
      "this is another error \n"
     ]
    }
   ],
   "source": [
    "def div(x,y):\n",
    "    if y==0:\n",
    "        raise ZeroDivisionError(\"Error occured\")\n",
    "                                \n",
    "try:\n",
    "    raise ZeroDivisionError('this is another error ')\n",
    "    div(3,0)\n",
    "    #raise ZeroDivisionError('this is another error ')\n",
    "except  Exception as e :\n",
    "    print(e)\n",
    "        \n",
    "                                \n",
    "                            \n",
    "                                "
   ]
  },
  {
   "cell_type": "code",
   "execution_count": 3,
   "id": "6eaa9130-f807-4168-b1ca-3dcd15236b7a",
   "metadata": {},
   "outputs": [
    {
     "name": "stdout",
     "output_type": "stream",
     "text": [
      "10.0\n",
      " y  to run hoga hi \n",
      "5.0\n",
      " y  to run hoga hi \n",
      " y  to run hoga hi \n",
      "5.0\n",
      " y  to run hoga hi \n",
      "3.3333333333333335\n",
      " y  to run hoga hi \n",
      "2.5\n",
      " y  to run hoga hi \n",
      " y  to run hoga hi \n"
     ]
    },
    {
     "ename": "TypeError",
     "evalue": "unsupported operand type(s) for /: 'int' and 'str'",
     "output_type": "error",
     "traceback": [
      "\u001b[1;31m---------------------------------------------------------------------------\u001b[0m",
      "\u001b[1;31mTypeError\u001b[0m                                 Traceback (most recent call last)",
      "Cell \u001b[1;32mIn[3], line 4\u001b[0m\n\u001b[0;32m      2\u001b[0m \u001b[38;5;28;01mfor\u001b[39;00m i \u001b[38;5;129;01min\u001b[39;00m l:\n\u001b[0;32m      3\u001b[0m     \u001b[38;5;28;01mtry\u001b[39;00m:\n\u001b[1;32m----> 4\u001b[0m         \u001b[38;5;28mprint\u001b[39m(\u001b[38;5;241;43m10\u001b[39;49m\u001b[38;5;241;43m/\u001b[39;49m\u001b[43mi\u001b[49m)\n\u001b[0;32m      5\u001b[0m     \u001b[38;5;28;01mexcept\u001b[39;00m \u001b[38;5;167;01mZeroDivisionError\u001b[39;00m \u001b[38;5;28;01mas\u001b[39;00m e :\n\u001b[0;32m      6\u001b[0m         \u001b[38;5;28;01mpass\u001b[39;00m \n",
      "\u001b[1;31mTypeError\u001b[0m: unsupported operand type(s) for /: 'int' and 'str'"
     ]
    }
   ],
   "source": [
    "l = [1,2,0,2,3,4,'hello']\n",
    "for i in l:\n",
    "    try:\n",
    "        print(10/i)\n",
    "    except ZeroDivisionError as e :\n",
    "        pass \n",
    "    except  ValueError as e :\n",
    "        raise \n",
    "    except TypeError as e :\n",
    "        raise \n",
    "    finally :\n",
    "        print(\" y  to run hoga hi \")"
   ]
  },
  {
   "cell_type": "code",
   "execution_count": 24,
   "id": "e8b3c7a0-d942-45b1-ad7d-df23e7096663",
   "metadata": {},
   "outputs": [
    {
     "name": "stdout",
     "output_type": "stream",
     "text": [
      "Error occured\n"
     ]
    }
   ],
   "source": [
    "class MeraError(Exception):\n",
    "    def __init__(self,message = \"y mera defalut errro message h \"):\n",
    "        self.message = message\n",
    "        super().__init__(self.message)\n",
    "    \n",
    "\n",
    "\n",
    "def fun(x,y):\n",
    "    if y ==0 :\n",
    "        raise MeraError(\"Error occured\")\n",
    "    return x/y \n",
    "\n",
    "try :\n",
    "    fun(10,0)\n",
    "    raise MeraError(\"this is my another error \")\n",
    "    \n",
    "    \n",
    "except Exception as e :\n",
    "    print(e)"
   ]
  },
  {
   "cell_type": "markdown",
   "id": "d0f7b343-8d1f-4a69-a63f-9c15336c601e",
   "metadata": {},
   "source": [
    "# practice "
   ]
  },
  {
   "cell_type": "code",
   "execution_count": 1,
   "id": "603b992d-b3b6-407d-b2ad-57e0ffd249e9",
   "metadata": {},
   "outputs": [
    {
     "name": "stdout",
     "output_type": "stream",
     "text": [
      "error aayega bhiaya\n",
      "y nhi hota h bhai\n"
     ]
    }
   ],
   "source": [
    "class GltHai(Exception):\n",
    "    pass\n",
    "\n",
    "def fun(x, y):\n",
    "    if y == 0:\n",
    "     \n",
    "        raise GltHai(\"y nhi hota h bhai\")\n",
    "    return x / y\n",
    "\n",
    "try:\n",
    "   \n",
    "    fun(10, 0)\n",
    "    raise GltHai(\"aisa nhi hota h \")\n",
    "except GltHai as e:\n",
    "    print(\"error aayega bhiaya\")\n",
    "\n",
    "    print(e)"
   ]
  },
  {
   "cell_type": "code",
   "execution_count": 32,
   "id": "5ac5c685-16b0-4a90-b1a2-4d332fd905d9",
   "metadata": {},
   "outputs": [
    {
     "name": "stdout",
     "output_type": "stream",
     "text": [
      "Error: Cannot calculate average score with zero quiz scores.\n"
     ]
    }
   ],
   "source": [
    "def calculate_score(quiz_scores):\n",
    "    total_score = 0\n",
    "    try:\n",
    "        for score in quiz_scores:\n",
    "            total_score += int(score)\n",
    "            quiz_scores.upper()\n",
    "    except AttributeError:\n",
    "        print(\"Error: Object does not have iterable behavior.\")\n",
    "    except ValueError:\n",
    "        print(\"Error: Invalid score detected. Skipping this entry.\")\n",
    "    except TypeError:\n",
    "        print(\"Error: Quiz scores must be provided as a list or iterable.\")\n",
    "    except IndexError:\n",
    "        print(\"Error: Index out of range. Check the length of the quiz scores list.\")\n",
    "    except AttributeError:\n",
    "        print(\"Error: Object does not have iterable behavior.\")\n",
    "    else:\n",
    "        if len(quiz_scores) == 0:\n",
    "            print(\"Error: Cannot calculate average score with zero quiz scores.\")\n",
    "        else:\n",
    "            average_score = total_score / len(quiz_scores)\n",
    "            print(\"Average score:\", average_score)\n",
    "        \n",
    "\n",
    "# quiz_scores = [1,2,3]\n",
    "quiz_scores = []\n",
    "#quiz_scores.upper()\n",
    "\n",
    "\n",
    "calculate_score(quiz_scores)\n",
    "\n",
    "\n",
    "#how to prevent the zero division error here \n",
    "# type error \n",
    "# value error \n",
    "# attribute error\n",
    "\n",
    "\n",
    "\n",
    "# HW : zero error \n",
    "# type : "
   ]
  },
  {
   "cell_type": "markdown",
   "id": "59890304-defa-4417-866d-d1cd85f9f51a",
   "metadata": {},
   "source": [
    "# Exception Chaning : "
   ]
  },
  {
   "cell_type": "code",
   "execution_count": 5,
   "id": "c97deca1-a4a4-4155-8630-a9a3182b4e21",
   "metadata": {},
   "outputs": [
    {
     "ename": "ValueError",
     "evalue": "this is my chaining error",
     "output_type": "error",
     "traceback": [
      "\u001b[1;31m---------------------------------------------------------------------------\u001b[0m",
      "\u001b[1;31mZeroDivisionError\u001b[0m                         Traceback (most recent call last)",
      "Cell \u001b[1;32mIn[5], line 4\u001b[0m\n\u001b[0;32m      3\u001b[0m     b \u001b[38;5;241m=\u001b[39m \u001b[38;5;241m0\u001b[39m \n\u001b[1;32m----> 4\u001b[0m     c \u001b[38;5;241m=\u001b[39m \u001b[43ma\u001b[49m\u001b[38;5;241;43m/\u001b[39;49m\u001b[43mb\u001b[49m \n\u001b[0;32m      6\u001b[0m \u001b[38;5;28;01mexcept\u001b[39;00m \u001b[38;5;167;01mZeroDivisionError\u001b[39;00m \u001b[38;5;28;01mas\u001b[39;00m e:\n",
      "\u001b[1;31mZeroDivisionError\u001b[0m: division by zero",
      "\nThe above exception was the direct cause of the following exception:\n",
      "\u001b[1;31mValueError\u001b[0m                                Traceback (most recent call last)",
      "Cell \u001b[1;32mIn[5], line 7\u001b[0m\n\u001b[0;32m      4\u001b[0m     c \u001b[38;5;241m=\u001b[39m a\u001b[38;5;241m/\u001b[39mb \n\u001b[0;32m      6\u001b[0m \u001b[38;5;28;01mexcept\u001b[39;00m \u001b[38;5;167;01mZeroDivisionError\u001b[39;00m \u001b[38;5;28;01mas\u001b[39;00m e:\n\u001b[1;32m----> 7\u001b[0m     \u001b[38;5;28;01mraise\u001b[39;00m \u001b[38;5;167;01mValueError\u001b[39;00m(\u001b[38;5;124m\"\u001b[39m\u001b[38;5;124mthis is my chaining error\u001b[39m\u001b[38;5;124m\"\u001b[39m)  \u001b[38;5;28;01mfrom\u001b[39;00m\u001b[38;5;250m \u001b[39m\u001b[38;5;21;01me\u001b[39;00m\n",
      "\u001b[1;31mValueError\u001b[0m: this is my chaining error"
     ]
    }
   ],
   "source": [
    "try:\n",
    "    a = 3 \n",
    "    b = 0 \n",
    "    c = a/b \n",
    "    \n",
    "except ZeroDivisionError as e:\n",
    "    raise ValueError(\"this is my chaining error\")  from e\n",
    "    "
   ]
  },
  {
   "cell_type": "code",
   "execution_count": 6,
   "id": "8d114507-b7d6-4e55-8bda-6c7e5a4259d6",
   "metadata": {},
   "outputs": [
    {
     "ename": "RuntimeError",
     "evalue": "this is my runtime error",
     "output_type": "error",
     "traceback": [
      "\u001b[1;31m---------------------------------------------------------------------------\u001b[0m",
      "\u001b[1;31mFileNotFoundError\u001b[0m                         Traceback (most recent call last)",
      "Cell \u001b[1;32mIn[6], line 2\u001b[0m\n\u001b[0;32m      1\u001b[0m \u001b[38;5;28;01mtry\u001b[39;00m:\n\u001b[1;32m----> 2\u001b[0m     \u001b[38;5;28;43mopen\u001b[39;49m\u001b[43m(\u001b[49m\u001b[38;5;124;43m\"\u001b[39;49m\u001b[38;5;124;43mfile.txt\u001b[39;49m\u001b[38;5;124;43m\"\u001b[39;49m\u001b[43m)\u001b[49m\n\u001b[0;32m      3\u001b[0m \u001b[38;5;28;01mexcept\u001b[39;00m \u001b[38;5;167;01mOSError\u001b[39;00m \u001b[38;5;28;01mas\u001b[39;00m exc:\n",
      "File \u001b[1;32mc:\\Users\\HP\\Python-Complete-\\complete\\Lib\\site-packages\\IPython\\core\\interactiveshell.py:324\u001b[0m, in \u001b[0;36m_modified_open\u001b[1;34m(file, *args, **kwargs)\u001b[0m\n\u001b[0;32m    318\u001b[0m     \u001b[38;5;28;01mraise\u001b[39;00m \u001b[38;5;167;01mValueError\u001b[39;00m(\n\u001b[0;32m    319\u001b[0m         \u001b[38;5;124mf\u001b[39m\u001b[38;5;124m\"\u001b[39m\u001b[38;5;124mIPython won\u001b[39m\u001b[38;5;124m'\u001b[39m\u001b[38;5;124mt let you open fd=\u001b[39m\u001b[38;5;132;01m{\u001b[39;00mfile\u001b[38;5;132;01m}\u001b[39;00m\u001b[38;5;124m by default \u001b[39m\u001b[38;5;124m\"\u001b[39m\n\u001b[0;32m    320\u001b[0m         \u001b[38;5;124m\"\u001b[39m\u001b[38;5;124mas it is likely to crash IPython. If you know what you are doing, \u001b[39m\u001b[38;5;124m\"\u001b[39m\n\u001b[0;32m    321\u001b[0m         \u001b[38;5;124m\"\u001b[39m\u001b[38;5;124myou can use builtins\u001b[39m\u001b[38;5;124m'\u001b[39m\u001b[38;5;124m open.\u001b[39m\u001b[38;5;124m\"\u001b[39m\n\u001b[0;32m    322\u001b[0m     )\n\u001b[1;32m--> 324\u001b[0m \u001b[38;5;28;01mreturn\u001b[39;00m \u001b[43mio_open\u001b[49m\u001b[43m(\u001b[49m\u001b[43mfile\u001b[49m\u001b[43m,\u001b[49m\u001b[43m \u001b[49m\u001b[38;5;241;43m*\u001b[39;49m\u001b[43margs\u001b[49m\u001b[43m,\u001b[49m\u001b[43m \u001b[49m\u001b[38;5;241;43m*\u001b[39;49m\u001b[38;5;241;43m*\u001b[39;49m\u001b[43mkwargs\u001b[49m\u001b[43m)\u001b[49m\n",
      "\u001b[1;31mFileNotFoundError\u001b[0m: [Errno 2] No such file or directory: 'file.txt'",
      "\nThe above exception was the direct cause of the following exception:\n",
      "\u001b[1;31mRuntimeError\u001b[0m                              Traceback (most recent call last)",
      "Cell \u001b[1;32mIn[6], line 4\u001b[0m\n\u001b[0;32m      2\u001b[0m     \u001b[38;5;28mopen\u001b[39m(\u001b[38;5;124m\"\u001b[39m\u001b[38;5;124mfile.txt\u001b[39m\u001b[38;5;124m\"\u001b[39m)\n\u001b[0;32m      3\u001b[0m \u001b[38;5;28;01mexcept\u001b[39;00m \u001b[38;5;167;01mOSError\u001b[39;00m \u001b[38;5;28;01mas\u001b[39;00m exc:\n\u001b[1;32m----> 4\u001b[0m     \u001b[38;5;28;01mraise\u001b[39;00m \u001b[38;5;167;01mRuntimeError\u001b[39;00m(\u001b[38;5;124m'\u001b[39m\u001b[38;5;124mthis is my runtime error\u001b[39m\u001b[38;5;124m'\u001b[39m) \u001b[38;5;28;01mfrom\u001b[39;00m\u001b[38;5;250m \u001b[39m\u001b[38;5;21;01mexc\u001b[39;00m \n",
      "\u001b[1;31mRuntimeError\u001b[0m: this is my runtime error"
     ]
    }
   ],
   "source": [
    "try:\n",
    "    open(\"file.txt\")\n",
    "except OSError as exc:\n",
    "    raise RuntimeError('this is my runtime error') from exc "
   ]
  },
  {
   "cell_type": "code",
   "execution_count": null,
   "id": "f2ab597d-bd4e-45a7-af31-b3151071c6bd",
   "metadata": {},
   "outputs": [],
   "source": []
  },
  {
   "cell_type": "markdown",
   "id": "c78c1ecc-0743-43e2-bcab-ba1c3d3eaad9",
   "metadata": {},
   "source": [
    "# trackback "
   ]
  },
  {
   "cell_type": "code",
   "execution_count": 8,
   "id": "9737a320-a8aa-4dbd-ad36-d91f03a6048b",
   "metadata": {},
   "outputs": [
    {
     "name": "stdout",
     "output_type": "stream",
     "text": [
      "second error occures\n"
     ]
    },
    {
     "name": "stderr",
     "output_type": "stream",
     "text": [
      "Traceback (most recent call last):\n",
      "  File \"C:\\Users\\HP\\AppData\\Local\\Temp\\ipykernel_18312\\2969406958.py\", line 13, in <module>\n",
      "    fun1()\n",
      "  File \"C:\\Users\\HP\\AppData\\Local\\Temp\\ipykernel_18312\\2969406958.py\", line 4, in fun1\n",
      "    fun2()\n",
      "  File \"C:\\Users\\HP\\AppData\\Local\\Temp\\ipykernel_18312\\2969406958.py\", line 8, in fun2\n",
      "    raise Exception (\"an error is occured\")\n",
      "Exception: an error is occured\n"
     ]
    }
   ],
   "source": [
    "import traceback\n",
    "\n",
    "def fun1():\n",
    "    fun2()\n",
    "\n",
    "    \n",
    "def fun2():\n",
    "    raise Exception (\"an error is occured\")\n",
    "    \n",
    "    \n",
    "    \n",
    "try:\n",
    "    fun1()\n",
    "except Exception :  \n",
    "    print(\"second error occures\")\n",
    "    traceback.print_exc()"
   ]
  },
  {
   "cell_type": "code",
   "execution_count": null,
   "id": "66fa0ce5-9e16-43d2-808c-a18c924faf90",
   "metadata": {},
   "outputs": [],
   "source": []
  },
  {
   "cell_type": "code",
   "execution_count": 9,
   "id": "0d91e754-b3e2-421b-96e6-fa2d91867fe3",
   "metadata": {},
   "outputs": [
    {
     "name": "stdout",
     "output_type": "stream",
     "text": [
      "ZeroDivisionError occurred!\n",
      "Finally block executed!\n"
     ]
    }
   ],
   "source": [
    "try:\n",
    "    \n",
    "    result = 10 / 0\n",
    "except ValueError:\n",
    "    print(\"ValueError occurred!\")\n",
    "\n",
    "except ZeroDivisionError:\n",
    "    print(\"ZeroDivisionError occurred!\")\n",
    "else:\n",
    "    print(\"No error occurred!\")\n",
    "finally:\n",
    "    print(\"Finally block executed!\")\n"
   ]
  },
  {
   "cell_type": "markdown",
   "id": "ef3203e5-d5af-40ca-8908-3cba79bce2ca",
   "metadata": {},
   "source": [
    "# practice Questions "
   ]
  },
  {
   "cell_type": "code",
   "execution_count": 11,
   "id": "64f25155-497f-4d4b-9c0f-e984b6af4c0a",
   "metadata": {},
   "outputs": [
    {
     "name": "stdout",
     "output_type": "stream",
     "text": [
      "ZeroDivisionError occurred!\n",
      "this block in inside the except block \n",
      "Outer finally block executed!\n",
      "[1, 2121, 2, 3]\n",
      "this except block is inside the finally\n"
     ]
    }
   ],
   "source": [
    "try:\n",
    "    result = 10 / 0\n",
    "    try:\n",
    "        print(\"outer try block \")\n",
    "        \n",
    "    except :\n",
    "        print(\"this is outer try block \")\n",
    "except ZeroDivisionError:\n",
    "    print(\"ZeroDivisionError occurred!\")\n",
    "    try:\n",
    "        print(\"this block in inside the except block \")\n",
    "    except :\n",
    "        print(\"this block is inside the except block \")\n",
    "else:\n",
    "    try:\n",
    "        print(\"Inner try block\")\n",
    "\n",
    "    except ValueError:  \n",
    "        print(\"ValueError occurred!\")\n",
    "    else:\n",
    "\n",
    "        print(\"No exception occurred in the inner try block.\")\n",
    "    finally:\n",
    "        print(\"Inner finally block executed!\")\n",
    "finally:\n",
    "\n",
    "    print(\"Outer finally block executed!\")\n",
    "    try:\n",
    "        l =[1,2121,2,3]\n",
    "        print(l)\n",
    "        l.upper()\n",
    "        print(\"this try block is inside the finally\")\n",
    "    except:\n",
    "        print(\"this except block is inside the finally\")"
   ]
  },
  {
   "cell_type": "code",
   "execution_count": 10,
   "id": "40d6a199-dcb6-4360-bd24-22f6309171ba",
   "metadata": {},
   "outputs": [
    {
     "name": "stdout",
     "output_type": "stream",
     "text": [
      "The End\n"
     ]
    }
   ],
   "source": [
    "print(\"The End\")"
   ]
  }
 ],
 "metadata": {
  "kernelspec": {
   "display_name": "Python 3",
   "language": "python",
   "name": "python3"
  },
  "language_info": {
   "codemirror_mode": {
    "name": "ipython",
    "version": 3
   },
   "file_extension": ".py",
   "mimetype": "text/x-python",
   "name": "python",
   "nbconvert_exporter": "python",
   "pygments_lexer": "ipython3",
   "version": "3.11.0"
  }
 },
 "nbformat": 4,
 "nbformat_minor": 5
}
