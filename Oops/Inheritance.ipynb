{
 "cells": [
  {
   "cell_type": "code",
   "execution_count": 2,
   "metadata": {},
   "outputs": [],
   "source": [
    "class test:\n",
    "    def test_1(self):\n",
    "        return \"This is my first test\""
   ]
  },
  {
   "cell_type": "code",
   "execution_count": 3,
   "metadata": {},
   "outputs": [],
   "source": [
    "class child_test(test):\n",
    "    pass"
   ]
  },
  {
   "cell_type": "code",
   "execution_count": 4,
   "metadata": {},
   "outputs": [
    {
     "data": {
      "text/plain": [
       "'This is my first test'"
      ]
     },
     "execution_count": 4,
     "metadata": {},
     "output_type": "execute_result"
    }
   ],
   "source": [
    "child = child_test()\n",
    "child.test_1()"
   ]
  },
  {
   "cell_type": "code",
   "execution_count": 5,
   "metadata": {},
   "outputs": [],
   "source": [
    "class test:\n",
    "    def __init__(self,name):\n",
    "        self.name = \"muskan\"\n",
    "\n",
    "    def test_1(self):\n",
    "        return \"This is my first test\""
   ]
  },
  {
   "cell_type": "code",
   "execution_count": 6,
   "metadata": {},
   "outputs": [],
   "source": [
    "class child_test(test):\n",
    "    pass"
   ]
  },
  {
   "cell_type": "code",
   "execution_count": 8,
   "metadata": {},
   "outputs": [
    {
     "data": {
      "text/plain": [
       "'muskan'"
      ]
     },
     "execution_count": 8,
     "metadata": {},
     "output_type": "execute_result"
    }
   ],
   "source": [
    "child = child_test(\"muskan\")\n",
    "child.test_1()\n",
    "child.name"
   ]
  },
  {
   "cell_type": "code",
   "execution_count": 11,
   "metadata": {},
   "outputs": [],
   "source": [
    "class test:\n",
    "    def __init__(self,name):\n",
    "        self.name = \"muskan\"\n",
    "\n",
    "    def test_1(self):\n",
    "        return \"This is my first test\"\n",
    "    \n",
    "\n",
    "    @staticmethod\n",
    "    def staticmethod():\n",
    "        print(\"This is my static method\")"
   ]
  },
  {
   "cell_type": "markdown",
   "metadata": {},
   "source": [
    "### **Constructer**"
   ]
  },
  {
   "cell_type": "code",
   "execution_count": 13,
   "metadata": {},
   "outputs": [],
   "source": [
    "class phone:\n",
    "    def __init__(self,price,brand):\n",
    "        print(\"Inside the constructor\")\n",
    "        self.price = price\n",
    "        self.brand = brand\n",
    "\n",
    "    def buy(self):\n",
    "        print(\"Buying a phone\")\n",
    "\n",
    "\n",
    "class mobilephone(phone):\n",
    "    pass"
   ]
  },
  {
   "cell_type": "code",
   "execution_count": 14,
   "metadata": {},
   "outputs": [
    {
     "name": "stdout",
     "output_type": "stream",
     "text": [
      "Inside the constructor\n"
     ]
    }
   ],
   "source": [
    "s = mobilephone(20000,\"Samsung\")"
   ]
  },
  {
   "cell_type": "markdown",
   "metadata": {},
   "source": [
    "### **Private variables**"
   ]
  },
  {
   "cell_type": "code",
   "execution_count": 16,
   "metadata": {},
   "outputs": [],
   "source": [
    "class device:\n",
    "    def __init__(self,cost,manufacturer,camera):\n",
    "        print(\"We are inside the constructor\")\n",
    "        self.__cost = cost\n",
    "        self.__manufacturer = manufacturer\n",
    "        self.__camera = camera\n",
    "\n",
    "\n",
    "\n",
    "class mobile(device):\n",
    "    def check(self):\n",
    "        print(self.__cost)\n",
    "\n"
   ]
  },
  {
   "cell_type": "code",
   "execution_count": 17,
   "metadata": {},
   "outputs": [
    {
     "name": "stdout",
     "output_type": "stream",
     "text": [
      "We are inside the constructor\n"
     ]
    }
   ],
   "source": [
    "s = mobile(20000,\"Samsung\",12)"
   ]
  },
  {
   "cell_type": "code",
   "execution_count": 18,
   "metadata": {},
   "outputs": [
    {
     "ename": "AttributeError",
     "evalue": "'mobile' object has no attribute '_mobile__cost'",
     "output_type": "error",
     "traceback": [
      "\u001b[1;31m---------------------------------------------------------------------------\u001b[0m",
      "\u001b[1;31mAttributeError\u001b[0m                            Traceback (most recent call last)",
      "Cell \u001b[1;32mIn[18], line 1\u001b[0m\n\u001b[1;32m----> 1\u001b[0m \u001b[43ms\u001b[49m\u001b[38;5;241;43m.\u001b[39;49m\u001b[43mcheck\u001b[49m\u001b[43m(\u001b[49m\u001b[43m)\u001b[49m\n",
      "Cell \u001b[1;32mIn[16], line 12\u001b[0m, in \u001b[0;36mmobile.check\u001b[1;34m(self)\u001b[0m\n\u001b[0;32m     11\u001b[0m \u001b[38;5;28;01mdef\u001b[39;00m\u001b[38;5;250m \u001b[39m\u001b[38;5;21mcheck\u001b[39m(\u001b[38;5;28mself\u001b[39m):\n\u001b[1;32m---> 12\u001b[0m     \u001b[38;5;28mprint\u001b[39m(\u001b[38;5;28;43mself\u001b[39;49m\u001b[38;5;241;43m.\u001b[39;49m\u001b[43m__cost\u001b[49m)\n",
      "\u001b[1;31mAttributeError\u001b[0m: 'mobile' object has no attribute '_mobile__cost'"
     ]
    }
   ],
   "source": [
    "s.check()"
   ]
  },
  {
   "cell_type": "code",
   "execution_count": 19,
   "metadata": {},
   "outputs": [],
   "source": [
    "class device:\n",
    "    def __init__(self,cost,manufacturer,camera):\n",
    "        print(\"We are inside the constructor\")\n",
    "        self.__cost = cost\n",
    "        self.__manufacturer = manufacturer\n",
    "        self.__camera = camera\n",
    "\n",
    "    def show(self):\n",
    "        print(self.__cost)\n",
    "\n",
    "\n",
    "\n",
    "class mobile(device):\n",
    "    def check(self):\n",
    "        print(self.__cost)\n",
    "\n"
   ]
  },
  {
   "cell_type": "code",
   "execution_count": 21,
   "metadata": {},
   "outputs": [
    {
     "name": "stdout",
     "output_type": "stream",
     "text": [
      "We are inside the constructor\n"
     ]
    }
   ],
   "source": [
    "s = mobile(20000,\"Samsung\",12)"
   ]
  },
  {
   "cell_type": "code",
   "execution_count": 22,
   "metadata": {},
   "outputs": [
    {
     "name": "stdout",
     "output_type": "stream",
     "text": [
      "20000\n"
     ]
    }
   ],
   "source": [
    "s.show()"
   ]
  },
  {
   "cell_type": "code",
   "execution_count": 45,
   "metadata": {},
   "outputs": [
    {
     "name": "stdout",
     "output_type": "stream",
     "text": [
      "This is my child class constructor\n"
     ]
    }
   ],
   "source": [
    "class phone:\n",
    "\n",
    "    def __init__(self,price,brand):\n",
    "        print(\"Inside the constructor\")\n",
    "        self.price = price\n",
    "        self.brand = brand\n",
    "\n",
    "    def buy(self):\n",
    "        print(\"Buying a phone\")\n",
    "\n",
    "class mobilephone(phone):\n",
    "    print(\"This is my child class constructor\")\n",
    "    def __init__(self,os,ram):\n",
    "        self.os = os\n",
    "        self.ram = ram\n",
    "    \n",
    "\n",
    "    def buy(self):\n",
    "        print(\"Buying a mobile phone\")"
   ]
  },
  {
   "cell_type": "code",
   "execution_count": 51,
   "metadata": {},
   "outputs": [
    {
     "name": "stdout",
     "output_type": "stream",
     "text": [
      "Buying a mobile phone\n"
     ]
    }
   ],
   "source": [
    "s = mobilephone(20000,\"Samsung\")\n",
    "s.buy()"
   ]
  },
  {
   "cell_type": "markdown",
   "metadata": {},
   "source": [
    "## **Super()**"
   ]
  },
  {
   "cell_type": "code",
   "execution_count": 29,
   "metadata": {},
   "outputs": [],
   "source": [
    "class person:\n",
    "    def __init__(self,name,age):\n",
    "        self.name = name\n",
    "        self.age = age\n",
    "\n",
    "    def display(self):\n",
    "        print(self.name,self.age)\n",
    "\n",
    "\n",
    "class student(person):\n",
    "    def __init__(self,name,age):\n",
    "        self.sName = name\n",
    "        self.sAge = age\n",
    "\n",
    "    def display(self):\n",
    "        print(self.sName,self.sAge)"
   ]
  },
  {
   "cell_type": "code",
   "execution_count": 30,
   "metadata": {},
   "outputs": [
    {
     "name": "stdout",
     "output_type": "stream",
     "text": [
      "muskan 23\n"
     ]
    }
   ],
   "source": [
    "obj = student(\"muskan\",23)\n",
    "obj.display()"
   ]
  },
  {
   "cell_type": "code",
   "execution_count": 33,
   "metadata": {},
   "outputs": [],
   "source": [
    "class person:\n",
    "    def __init__(self,name,age):\n",
    "        self.name = name\n",
    "        self.age = age\n",
    "\n",
    "    def display(self):\n",
    "        print(self.name,self.age)\n",
    "\n",
    "\n",
    "class student(person):\n",
    "    def __init__(self,name,age):\n",
    "        self.sName = name\n",
    "        self.sAge = age\n",
    "\n",
    "    def displayInfo(self):\n",
    "        print(self.sName,self.sAge)"
   ]
  },
  {
   "cell_type": "code",
   "execution_count": 35,
   "metadata": {},
   "outputs": [],
   "source": [
    "obj = student(\"muskan\",23)"
   ]
  },
  {
   "cell_type": "code",
   "execution_count": 37,
   "metadata": {},
   "outputs": [
    {
     "name": "stdout",
     "output_type": "stream",
     "text": [
      "muskan 23\n"
     ]
    }
   ],
   "source": [
    "obj.displayInfo()"
   ]
  },
  {
   "cell_type": "code",
   "execution_count": 39,
   "metadata": {},
   "outputs": [],
   "source": [
    "class person:\n",
    "    def __init__(self,name,age):\n",
    "        self.name = name\n",
    "        self.age = age\n",
    "\n",
    "    def display(self):\n",
    "        print(self.name,self.age)\n",
    "\n",
    "\n",
    "class student(person):\n",
    "    def __init__(self,name,age):\n",
    "        self.sName = name\n",
    "        self.sAge = age\n",
    "\n",
    "        super().__init__(\"muskii\",24)\n",
    "\n",
    "    def displayInfo(self):\n",
    "        print(self.sName,self.sAge)"
   ]
  },
  {
   "cell_type": "code",
   "execution_count": 40,
   "metadata": {},
   "outputs": [],
   "source": [
    "obj = student(\"muskan\",23)"
   ]
  },
  {
   "cell_type": "code",
   "execution_count": 41,
   "metadata": {},
   "outputs": [
    {
     "name": "stdout",
     "output_type": "stream",
     "text": [
      "muskii 24\n"
     ]
    }
   ],
   "source": [
    "obj.display()"
   ]
  },
  {
   "cell_type": "markdown",
   "metadata": {},
   "source": [
    "### **Overriding**"
   ]
  },
  {
   "cell_type": "code",
   "execution_count": 47,
   "metadata": {},
   "outputs": [],
   "source": [
    "class phone:\n",
    "    def __init__(self,price,brand,camera):\n",
    "        print(\"Inside the constructor\") \n",
    "        self.price = price\n",
    "        self.brand = brand\n",
    "        self.camera = camera\n",
    "\n",
    "        def buy(self):\n",
    "            print(\"Buying a phone\")\n",
    "\n",
    "class smartphone(phone):\n",
    "    def buy(self):\n",
    "        print(\"Buying a smartphone\")\n"
   ]
  },
  {
   "cell_type": "code",
   "execution_count": 48,
   "metadata": {},
   "outputs": [
    {
     "name": "stdout",
     "output_type": "stream",
     "text": [
      "Inside the constructor\n"
     ]
    }
   ],
   "source": [
    "s = smartphone(20000,\"Samsung\",12)"
   ]
  },
  {
   "cell_type": "code",
   "execution_count": 50,
   "metadata": {},
   "outputs": [
    {
     "name": "stdout",
     "output_type": "stream",
     "text": [
      "Buying a smartphone\n"
     ]
    }
   ],
   "source": [
    "s.buy()"
   ]
  },
  {
   "cell_type": "markdown",
   "metadata": {},
   "source": [
    "### **Types of Inheritance**"
   ]
  },
  {
   "cell_type": "code",
   "execution_count": 54,
   "metadata": {},
   "outputs": [
    {
     "name": "stdout",
     "output_type": "stream",
     "text": [
      "yeh second wala\n"
     ]
    }
   ],
   "source": [
    "# Multi level inheritance\n",
    "\n",
    "class device:\n",
    "    def __init__(self,cost,manufacturer,camera):\n",
    "        print(\"We are inside the constructor\")\n",
    "        self.__cost = cost\n",
    "        self.__manufacturer = manufacturer\n",
    "        self.__camera = camera\n",
    "\n",
    "    def buy(self):\n",
    "        print(\"Buying a device\")\n",
    "\n",
    "    \n",
    "\n",
    "\n",
    "class mobile(device):\n",
    "    print(\"yeh second wala\")\n",
    "\n",
    "class smartphone(mobile):\n",
    "    pass\n",
    "\n",
    "    "
   ]
  },
  {
   "cell_type": "code",
   "execution_count": 55,
   "metadata": {},
   "outputs": [
    {
     "name": "stdout",
     "output_type": "stream",
     "text": [
      "We are inside the constructor\n"
     ]
    }
   ],
   "source": [
    "m = mobile(20000,\"Samsung\",12)  "
   ]
  },
  {
   "cell_type": "code",
   "execution_count": 57,
   "metadata": {},
   "outputs": [],
   "source": [
    "class device:\n",
    "    def review(self):\n",
    "        print(\"Product is good\")\n",
    "\n",
    "\n",
    "class phone(device):\n",
    "    def __init__(self,price,brand,camera):\n",
    "        self.price = price\n",
    "        self.brand = brand\n",
    "        self.camera = camera\n",
    "\n",
    "\n",
    "    def buy(self):\n",
    "        print(\"Buying a phone\")\n",
    "\n",
    "\n",
    "class smartphone(phone):    \n",
    "    pass\n",
    "\n",
    "\n"
   ]
  },
  {
   "cell_type": "code",
   "execution_count": 59,
   "metadata": {},
   "outputs": [],
   "source": [
    "s = smartphone(20000,\"Samsung\",12)"
   ]
  },
  {
   "cell_type": "code",
   "execution_count": 60,
   "metadata": {},
   "outputs": [
    {
     "name": "stdout",
     "output_type": "stream",
     "text": [
      "Buying a phone\n"
     ]
    }
   ],
   "source": [
    "s.buy()"
   ]
  },
  {
   "cell_type": "code",
   "execution_count": 61,
   "metadata": {},
   "outputs": [
    {
     "name": "stdout",
     "output_type": "stream",
     "text": [
      "Product is good\n"
     ]
    }
   ],
   "source": [
    "s.review()"
   ]
  },
  {
   "cell_type": "code",
   "execution_count": 71,
   "metadata": {},
   "outputs": [],
   "source": [
    "# Herirachical inheritance\n",
    "\n",
    "class device:\n",
    "    def __init__(self,price,brand,camera):\n",
    "        self.price = price\n",
    "        self.brand = brand\n",
    "        self.camera = camera\n",
    "\n",
    "    def buy(self):\n",
    "        print(\"Buying a device\")\n",
    "\n",
    "class smartphone(device):\n",
    "    pass\n",
    "\n",
    "class smartphone1(device):\n",
    "    pass\n",
    "\n"
   ]
  },
  {
   "cell_type": "code",
   "execution_count": 72,
   "metadata": {},
   "outputs": [
    {
     "data": {
      "text/plain": [
       "12"
      ]
     },
     "execution_count": 72,
     "metadata": {},
     "output_type": "execute_result"
    }
   ],
   "source": [
    "s=smartphone(20000,\"Samsung\",12)    \n",
    "s.camera"
   ]
  },
  {
   "cell_type": "code",
   "execution_count": 73,
   "metadata": {},
   "outputs": [
    {
     "data": {
      "text/plain": [
       "12"
      ]
     },
     "execution_count": 73,
     "metadata": {},
     "output_type": "execute_result"
    }
   ],
   "source": [
    "s1=smartphone1(20000,\"Samsung\",12)\n",
    "s1.camera"
   ]
  },
  {
   "cell_type": "code",
   "execution_count": 75,
   "metadata": {},
   "outputs": [
    {
     "name": "stdout",
     "output_type": "stream",
     "text": [
      "Buying a device\n"
     ]
    }
   ],
   "source": [
    "s1.buy()"
   ]
  },
  {
   "cell_type": "code",
   "execution_count": 76,
   "metadata": {},
   "outputs": [],
   "source": [
    "# Multiple inheritance\n",
    "\n",
    "class phone:\n",
    "    def __init__(self,price,brand,camera):\n",
    "        self.price = price\n",
    "        self.brand = brand\n",
    "        self.camera = camera\n",
    "\n",
    "    def buy(self):\n",
    "        print(\"Buying a phone\")\n",
    "\n",
    "\n",
    "\n",
    "class product:\n",
    "    def review(self):\n",
    "        print(\"Product is good\")\n",
    "\n",
    "\n",
    "class smartphone(phone,product):\n",
    "    pass\n",
    "\n",
    "        "
   ]
  },
  {
   "cell_type": "code",
   "execution_count": 77,
   "metadata": {},
   "outputs": [
    {
     "name": "stdout",
     "output_type": "stream",
     "text": [
      "Buying a phone\n"
     ]
    }
   ],
   "source": [
    "s = smartphone(20000,\"Samsung\",12)  \n",
    "s.buy()"
   ]
  },
  {
   "cell_type": "code",
   "execution_count": 78,
   "metadata": {},
   "outputs": [
    {
     "name": "stdout",
     "output_type": "stream",
     "text": [
      "The End\n"
     ]
    }
   ],
   "source": [
    "print(\"The End\")"
   ]
  }
 ],
 "metadata": {
  "kernelspec": {
   "display_name": "Python 3",
   "language": "python",
   "name": "python3"
  },
  "language_info": {
   "codemirror_mode": {
    "name": "ipython",
    "version": 3
   },
   "file_extension": ".py",
   "mimetype": "text/x-python",
   "name": "python",
   "nbconvert_exporter": "python",
   "pygments_lexer": "ipython3",
   "version": "3.11.0"
  }
 },
 "nbformat": 4,
 "nbformat_minor": 2
}
