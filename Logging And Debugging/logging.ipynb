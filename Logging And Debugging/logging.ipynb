{
 "cells": [
  {
   "cell_type": "code",
   "execution_count": 1,
   "metadata": {},
   "outputs": [
    {
     "name": "stdout",
     "output_type": "stream",
     "text": [
      "5\n"
     ]
    }
   ],
   "source": [
    "def div (x,y):\n",
    "    return x+y\n",
    "\n",
    "a=div(2,3)\n",
    "print(a)"
   ]
  },
  {
   "cell_type": "code",
   "execution_count": 2,
   "metadata": {},
   "outputs": [
    {
     "name": "stderr",
     "output_type": "stream",
     "text": [
      "INFO:root:logging is started\n"
     ]
    },
    {
     "name": "stdout",
     "output_type": "stream",
     "text": [
      "This is my print statement\n"
     ]
    }
   ],
   "source": [
    "import logging\n",
    "\n",
    "logging.basicConfig(level=logging.INFO)\n",
    "print(\"This is my print statement\")\n",
    "logging.info(\"logging is started\")"
   ]
  },
  {
   "cell_type": "code",
   "execution_count": 3,
   "metadata": {},
   "outputs": [
    {
     "name": "stderr",
     "output_type": "stream",
     "text": [
      "INFO:root:logging is started\n",
      "WARNING:root:warning is showing\n",
      "ERROR:root:this is my first error\n"
     ]
    },
    {
     "name": "stdout",
     "output_type": "stream",
     "text": [
      "This is my print statement\n"
     ]
    }
   ],
   "source": [
    "import logging\n",
    "\n",
    "logging.basicConfig(level=logging.INFO)\n",
    "print(\"This is my print statement\")\n",
    "logging.info(\"logging is started\")\n",
    "logging.warning(\"warning is showing\")\n",
    "logging.error(\"this is my first error\")"
   ]
  },
  {
   "cell_type": "markdown",
   "metadata": {},
   "source": [
    "## **Where to use logging**"
   ]
  },
  {
   "cell_type": "code",
   "execution_count": 4,
   "metadata": {},
   "outputs": [],
   "source": [
    "import logging\n",
    "\n",
    "def some_function():\n",
    "    logging.info(\"Entering some_function\")\n",
    "\n",
    "    logging.info(\"Exiting some_function\")"
   ]
  },
  {
   "cell_type": "code",
   "execution_count": 5,
   "metadata": {},
   "outputs": [
    {
     "name": "stderr",
     "output_type": "stream",
     "text": [
      "ERROR:root:An error occurred: division by zero\n",
      "Traceback (most recent call last):\n",
      "  File \"C:\\Users\\HP\\AppData\\Local\\Temp\\ipykernel_10360\\3740921339.py\", line 3, in <module>\n",
      "    result = 1 / 0\n",
      "             ~~^~~\n",
      "ZeroDivisionError: division by zero\n"
     ]
    }
   ],
   "source": [
    "import logging\n",
    "try:\n",
    "    result = 1 / 0\n",
    "except Exception as e:\n",
    "    logging.error(f\"An error occurred: {e}\", exc_info=True)"
   ]
  },
  {
   "cell_type": "code",
   "execution_count": 6,
   "metadata": {},
   "outputs": [],
   "source": [
    "import logging\n",
    "for i in range(5):\n",
    "    logging.debug(f\"Iteration {i+1} of the loop\")"
   ]
  },
  {
   "cell_type": "code",
   "execution_count": 7,
   "metadata": {},
   "outputs": [],
   "source": [
    "import logging\n",
    "def process_input(data):\n",
    "    if not isinstance(data, int):\n",
    "        logging.warning(\"Input data is not an integer\")"
   ]
  },
  {
   "cell_type": "code",
   "execution_count": 8,
   "metadata": {},
   "outputs": [
    {
     "name": "stderr",
     "output_type": "stream",
     "text": [
      "INFO:root:Opening file...\n"
     ]
    },
    {
     "ename": "FileNotFoundError",
     "evalue": "[Errno 2] No such file or directory: 'example.txt'",
     "output_type": "error",
     "traceback": [
      "\u001b[1;31m---------------------------------------------------------------------------\u001b[0m",
      "\u001b[1;31mFileNotFoundError\u001b[0m                         Traceback (most recent call last)",
      "Cell \u001b[1;32mIn[8], line 5\u001b[0m\n\u001b[0;32m      3\u001b[0m \u001b[38;5;66;03m# opening a file\u001b[39;00m\n\u001b[0;32m      4\u001b[0m logging\u001b[38;5;241m.\u001b[39minfo(\u001b[38;5;124m\"\u001b[39m\u001b[38;5;124mOpening file...\u001b[39m\u001b[38;5;124m\"\u001b[39m)\n\u001b[1;32m----> 5\u001b[0m \u001b[38;5;28;01mwith\u001b[39;00m \u001b[38;5;28;43mopen\u001b[39;49m\u001b[43m(\u001b[49m\u001b[38;5;124;43m\"\u001b[39;49m\u001b[38;5;124;43mexample.txt\u001b[39;49m\u001b[38;5;124;43m\"\u001b[39;49m\u001b[43m,\u001b[49m\u001b[38;5;124;43m\"\u001b[39;49m\u001b[38;5;124;43mr\u001b[39;49m\u001b[38;5;124;43m\"\u001b[39;49m\u001b[43m)\u001b[49m \u001b[38;5;28;01mas\u001b[39;00m file:\n\u001b[0;32m      6\u001b[0m     \u001b[38;5;66;03m# File processing logic\u001b[39;00m\n\u001b[0;32m      7\u001b[0m     logging\u001b[38;5;241m.\u001b[39minfo(\u001b[38;5;124m\"\u001b[39m\u001b[38;5;124mFile closed\u001b[39m\u001b[38;5;124m\"\u001b[39m)\n",
      "File \u001b[1;32mc:\\Users\\HP\\Python-Complete-\\complete\\Lib\\site-packages\\IPython\\core\\interactiveshell.py:324\u001b[0m, in \u001b[0;36m_modified_open\u001b[1;34m(file, *args, **kwargs)\u001b[0m\n\u001b[0;32m    317\u001b[0m \u001b[38;5;28;01mif\u001b[39;00m file \u001b[38;5;129;01min\u001b[39;00m {\u001b[38;5;241m0\u001b[39m, \u001b[38;5;241m1\u001b[39m, \u001b[38;5;241m2\u001b[39m}:\n\u001b[0;32m    318\u001b[0m     \u001b[38;5;28;01mraise\u001b[39;00m \u001b[38;5;167;01mValueError\u001b[39;00m(\n\u001b[0;32m    319\u001b[0m         \u001b[38;5;124mf\u001b[39m\u001b[38;5;124m\"\u001b[39m\u001b[38;5;124mIPython won\u001b[39m\u001b[38;5;124m'\u001b[39m\u001b[38;5;124mt let you open fd=\u001b[39m\u001b[38;5;132;01m{\u001b[39;00mfile\u001b[38;5;132;01m}\u001b[39;00m\u001b[38;5;124m by default \u001b[39m\u001b[38;5;124m\"\u001b[39m\n\u001b[0;32m    320\u001b[0m         \u001b[38;5;124m\"\u001b[39m\u001b[38;5;124mas it is likely to crash IPython. If you know what you are doing, \u001b[39m\u001b[38;5;124m\"\u001b[39m\n\u001b[0;32m    321\u001b[0m         \u001b[38;5;124m\"\u001b[39m\u001b[38;5;124myou can use builtins\u001b[39m\u001b[38;5;124m'\u001b[39m\u001b[38;5;124m open.\u001b[39m\u001b[38;5;124m\"\u001b[39m\n\u001b[0;32m    322\u001b[0m     )\n\u001b[1;32m--> 324\u001b[0m \u001b[38;5;28;01mreturn\u001b[39;00m \u001b[43mio_open\u001b[49m\u001b[43m(\u001b[49m\u001b[43mfile\u001b[49m\u001b[43m,\u001b[49m\u001b[43m \u001b[49m\u001b[38;5;241;43m*\u001b[39;49m\u001b[43margs\u001b[49m\u001b[43m,\u001b[49m\u001b[43m \u001b[49m\u001b[38;5;241;43m*\u001b[39;49m\u001b[38;5;241;43m*\u001b[39;49m\u001b[43mkwargs\u001b[49m\u001b[43m)\u001b[49m\n",
      "\u001b[1;31mFileNotFoundError\u001b[0m: [Errno 2] No such file or directory: 'example.txt'"
     ]
    }
   ],
   "source": [
    "import logging\n",
    "\n",
    "# opening a file\n",
    "logging.info(\"Opening file...\")\n",
    "with open(\"example.txt\",\"r\") as file:\n",
    "    # File processing logic\n",
    "    logging.info(\"File closed\")"
   ]
  },
  {
   "cell_type": "code",
   "execution_count": 9,
   "metadata": {},
   "outputs": [
    {
     "name": "stderr",
     "output_type": "stream",
     "text": [
      "INFO:root:division of 10 by 2 is 5.0\n"
     ]
    },
    {
     "name": "stdout",
     "output_type": "stream",
     "text": [
      "5.0\n"
     ]
    }
   ],
   "source": [
    "import logging\n",
    "logging.basicConfig(level=logging.DEBUG)\n",
    "\n",
    "\n",
    "def div(x,y):\n",
    "    try:\n",
    "        result = x/y\n",
    "        logging.info(f\"division of {x} by {y} is {result}\")\n",
    "        return result\n",
    "    except ZeroDivisionError as e:\n",
    "        logging.error(\"Division error\")\n",
    "\n",
    "\n",
    "x = 10\n",
    "y = 2\n",
    "result = div(x,y)\n",
    "print(result)"
   ]
  },
  {
   "cell_type": "code",
   "execution_count": 10,
   "metadata": {},
   "outputs": [
    {
     "name": "stderr",
     "output_type": "stream",
     "text": [
      "ERROR:root:Division error\n"
     ]
    },
    {
     "name": "stdout",
     "output_type": "stream",
     "text": [
      "None\n"
     ]
    }
   ],
   "source": [
    "import logging\n",
    "logging.basicConfig(level=logging.DEBUG)\n",
    "\n",
    "\n",
    "def div(x,y):\n",
    "    try:\n",
    "        result = x/y\n",
    "        logging.info(f\"division of {x} by {y} is {result}\")\n",
    "        return result\n",
    "    except ZeroDivisionError as e:\n",
    "        logging.error(\"Division error\")\n",
    "\n",
    "\n",
    "x = 10\n",
    "y = 0\n",
    "result = div(x,y)\n",
    "print(result)"
   ]
  },
  {
   "cell_type": "code",
   "execution_count": 11,
   "metadata": {},
   "outputs": [
    {
     "name": "stderr",
     "output_type": "stream",
     "text": [
      "INFO:root:division of 10 by 2 is 5.0\n"
     ]
    },
    {
     "name": "stdout",
     "output_type": "stream",
     "text": [
      "5.0\n"
     ]
    }
   ],
   "source": [
    "import logging\n",
    "logging.basicConfig(level=logging.DEBUG ,format='%(asctime)s-%(levelname)s- %(message)s')\n",
    "\n",
    "\n",
    "def div(x,y):\n",
    "    try:\n",
    "        result = x/y\n",
    "        logging.info(f\"division of {x} by {y} is {result}\")\n",
    "        return result\n",
    "    except ZeroDivisionError as e:\n",
    "        logging.error(\"Division error\")\n",
    "\n",
    "\n",
    "x = 10\n",
    "y = 2\n",
    "result = div(x,y)\n",
    "print(result)"
   ]
  },
  {
   "cell_type": "code",
   "execution_count": 12,
   "metadata": {},
   "outputs": [
    {
     "name": "stdout",
     "output_type": "stream",
     "text": [
      "None\n",
      "error aa gyi hai , to app file m check kro waha pr logging ki gyi hai\n"
     ]
    }
   ],
   "source": [
    "import logging\n",
    "logging.basicConfig(filename=\"myfile.log\",level=logging.DEBUG ,format='%(asctime)s-%(levelname)s- %(message)s',force=True)\n",
    "\n",
    "\n",
    "def div(x,y):\n",
    "    try:\n",
    "        result = x/y\n",
    "        logging.info(f\"division of {x} by {y} is {result}\")\n",
    "        return result\n",
    "    except ZeroDivisionError as e:\n",
    "        logging.error(\"Division error\")\n",
    "        return None\n",
    "\n",
    "\n",
    "x = 10\n",
    "y = 0\n",
    "result = div(x,y)\n",
    "print(result)\n",
    "if result is not None:\n",
    "    print(f\"result: {result}\")\n",
    "else:\n",
    "    print(\"error aa gyi hai , to app file m check kro waha pr logging ki gyi hai\")"
   ]
  },
  {
   "cell_type": "code",
   "execution_count": 13,
   "metadata": {},
   "outputs": [
    {
     "name": "stdout",
     "output_type": "stream",
     "text": [
      "None\n",
      "error aa gyi hai\n"
     ]
    }
   ],
   "source": [
    "import logging\n",
    "logging.basicConfig(filename=\"myfile.log\",level=logging.DEBUG ,format='%(asctime)s-%(levelname)s- %(message)s',force=True)\n",
    "\n",
    "def factorial(n):\n",
    "    if n < 0:\n",
    "        logging.error(\"input cannot be negative\")\n",
    "        return None\n",
    "    elif n==0:\n",
    "        logging.warning(\"factorial of 0 is 1\")\n",
    "        return 1\n",
    "    else:\n",
    "        result =1\n",
    "        for i in range(1,n+1):\n",
    "            result *=i\n",
    "            logging.info(f\"factorial of {n} is {result}\")\n",
    "        return result\n",
    "    \n",
    "\n",
    "n = -5\n",
    "fac=factorial(n)\n",
    "print(fac)\n",
    "if fac is not None:\n",
    "    print(f\"the factorial of {n} is {fac}\")\n",
    "else:\n",
    "    print(\"error aa gyi hai\")"
   ]
  },
  {
   "cell_type": "code",
   "execution_count": 14,
   "metadata": {},
   "outputs": [
    {
     "name": "stdout",
     "output_type": "stream",
     "text": [
      "2025-01-12 11:58:05,459-ERROR- Division error\n",
      "2025-01-12 12:16:16,210-INFO- factorial of 5 is 1\n",
      "2025-01-12 12:16:16,210-INFO- factorial of 5 is 2\n",
      "2025-01-12 12:16:16,210-INFO- factorial of 5 is 6\n",
      "2025-01-12 12:16:16,210-INFO- factorial of 5 is 24\n",
      "2025-01-12 12:16:16,210-INFO- factorial of 5 is 120\n",
      "2025-01-12 12:16:34,223-WARNING- factorial of 0 is 1\n",
      "2025-01-12 12:18:41,403-ERROR- input cannot be negative\n",
      "2025-01-12 14:11:51,791-INFO-Operation '+ of 10 and 3 and result aya h 13\n",
      "2025-01-12 14:14:43,521-INFO-Operation '+ of 10 and 3 and result aya h 13\n",
      "2025-01-12 15:28:32,721-ERROR- Division error\n",
      "2025-01-12 15:28:33,597-ERROR- input cannot be negative\n",
      "\n",
      "15\n"
     ]
    }
   ],
   "source": [
    "import logging\n",
    "logging.basicConfig(filename=\"myfile1.log\",level=logging.DEBUG ,format='%(asctime)s-%(levelname)s- %(message)s',force=True)\n",
    "\n",
    "def addition(*args):\n",
    "    logging.info(\"yaha s mera function suru ho gaya h\")\n",
    "    sum = 0\n",
    "\n",
    "    for i in args:\n",
    "        logging.info(f\"value of i is {i}\")\n",
    "        sum=sum+i\n",
    "\n",
    "    return sum\n",
    "f=open(\"myfile.log\",\"r\")\n",
    "print(f.read())\n",
    "print(addition(1,2,3,4,5))"
   ]
  },
  {
   "cell_type": "code",
   "execution_count": 15,
   "metadata": {},
   "outputs": [
    {
     "name": "stdout",
     "output_type": "stream",
     "text": [
      "result : 10 and 3 is 13\n"
     ]
    }
   ],
   "source": [
    "import logging \n",
    "logging.basicConfig(filename='myfile.log',level=logging.DEBUG ,\n",
    "                    format= '%(asctime)s-%(levelname)s-%(message)s',force=True)\n",
    "\n",
    "def perform_operation(operation,x,y):\n",
    "\n",
    "    try:\n",
    "\n",
    "\n",
    "        if operation =='+':\n",
    "            result = x+y\n",
    "        elif operation =='-':\n",
    "            result = x-y\n",
    "\n",
    "        elif operation ==\"*\":\n",
    "            result = x*y\n",
    "        elif operation == \"/\":\n",
    "            result = x/y\n",
    "\n",
    "        else:\n",
    "            raise ValueError(\"Invalid operation\")\n",
    "        logging.info(f\"Operation '{operation} of {x} and {y} and result aya h {result}\")\n",
    "\n",
    "\n",
    "        return result \n",
    "    except Exception as e :\n",
    "        logging.error(f\"error ho gya during operation {operation}: {e}\")\n",
    "\n",
    "operation = '+'\n",
    "x =10 \n",
    "y= 3\n",
    "\n",
    "result = perform_operation(operation,x,y)\n",
    "if result is not None :\n",
    "    print(f\"result : {x} and {y} is {result}\")\n",
    "else:\n",
    "    print(f\"error aa gya bhiay  .log check kro \")\n"
   ]
  },
  {
   "cell_type": "markdown",
   "metadata": {},
   "source": [
    "| *Aspect*            | *File Handler*                                                                                     | *Stream Handler*                                                                                 |\n",
    "|------------------------|-----------------------------------------------------------------------------------------------------|-----------------------------------------------------------------------------------------------------|\n",
    "| *Definition*         | Sends log messages to a file.                                                                       | Sends log messages to the console (stdout or stderr).                                              |\n",
    "| *Primary Use Case*   | Used to persist log messages for later review or debugging.                                         | Used for real-time log messages during application execution.                                      |\n",
    "| *Output Location*    | Writes logs to a specified file on the file system.                                                 | Outputs logs to the console or terminal window.                                                    |\n",
    "| *Persistence*        | Logs are saved for future reference, providing a historical record of application behavior.         | Logs are ephemeral and disappear once the console session ends.                                    |\n",
    "| *Configuration*      | Requires a file name and mode ('a' for append or 'w' for overwrite).                            | Does not require additional configuration, defaults to console output.                             |\n",
    "| *Performance*        | May have slightly higher I/O overhead due to file system writes, especially with high log volumes. | Minimal overhead as logs are streamed directly to the console.                                     |\n",
    "| *Examples of Use*    | - Long-term logging for audit trails<br>- Debugging in production systems<br>- Error reporting      | - Debugging during development<br>- Monitoring application status during runtime                   |\n",
    "| *Example Code*       | python<br>import logging<br>logging.basicConfig(filename='app.log', level=logging.DEBUG)<br>  | python<br>import logging<br>logging.basicConfig(stream=sys.stdout, level=logging.DEBUG)<br>  |"
   ]
  },
  {
   "cell_type": "markdown",
   "metadata": {},
   "source": [
    "## **logging handler**"
   ]
  },
  {
   "cell_type": "code",
   "execution_count": 16,
   "metadata": {},
   "outputs": [],
   "source": [
    "import logging\n",
    "logging.basicConfig(\n",
    "    filename='app.log',\n",
    "    level=logging.DEBUG,\n",
    "    format='%(asctime)s-%(levelname)s-%(message)s',\n",
    "    force=True\n",
    ")\n",
    "\n",
    "# Create a file handler to log messages to a file\n",
    "file_handler = logging.FileHandler('app.log')\n",
    "file_handler.setLevel(logging.DEBUG)\n",
    "\n",
    "# Define a formatter for the log messages\n",
    "formatter = logging.Formatter('%(name)s-%(asctime)s-%(levelname)s-%(message)s')\n",
    "file_handler.setFormatter(formatter)\n",
    "\n",
    "# Get the logger for the current module (_name_) and add the handler\n",
    "logger = logging.getLogger(__name__)\n",
    "logger.setLevel(logging.DEBUG)  # Ensure the logger's level is set to DEBUG\n",
    "logger.addHandler(file_handler)\n",
    "\n",
    "# Example usage\n",
    "#logger.debug(\"This is a debug message\")\n",
    "#logger.info(\"This is an info message\")"
   ]
  },
  {
   "cell_type": "code",
   "execution_count": 17,
   "metadata": {},
   "outputs": [],
   "source": [
    "logging.info(\"This is my main log\")\n",
    "logger1 = logging.getLogger(\"user1\")\n",
    "logger2 = logging.getLogger(\"user2\")\n",
    "logger1.info(\"This is my first message through user1\")\n",
    "logger2.debug(\"This is my second message through user2\")"
   ]
  },
  {
   "cell_type": "code",
   "execution_count": 18,
   "metadata": {},
   "outputs": [
    {
     "name": "stderr",
     "output_type": "stream",
     "text": [
      "root - 2025-01-12 15:28:38,617 - INFO - main msessage\n",
      "user3 - 2025-01-12 15:28:38,620 - INFO - this is for the user 1 \n",
      "user4 - 2025-01-12 15:28:38,621 - DEBUG -  this is my stream handleer for user 2 \n"
     ]
    }
   ],
   "source": [
    "import logging \n",
    "\n",
    "\n",
    "logging.basicConfig(filename='app2.log', level=logging.DEBUG, \n",
    "                    format='%(name)s - %(asctime)s - %(levelname)s - %(message)s', force=True)\n",
    "\n",
    "console_log = logging.StreamHandler()\n",
    "console_log.setLevel(logging.DEBUG)\n",
    "format = logging.Formatter('%(name)s - %(asctime)s - %(levelname)s - %(message)s')\n",
    "console_log.setFormatter(format)\n",
    "\n",
    "logging.getLogger('').addHandler(console_log)\n",
    "\n",
    "\n",
    "logging.info('main msessage')\n",
    "\n",
    "logger1 =logging.getLogger('user3')\n",
    "logger1.info('this is for the user 1 ')\n",
    "logger2 = logging.getLogger('user4')\n",
    "logger2.debug(' this is my stream handleer for user 2 ')"
   ]
  },
  {
   "cell_type": "markdown",
   "metadata": {},
   "source": [
    "## **Debugging**"
   ]
  },
  {
   "cell_type": "code",
   "execution_count": 19,
   "metadata": {},
   "outputs": [],
   "source": [
    "import ipdb"
   ]
  },
  {
   "cell_type": "code",
   "execution_count": null,
   "metadata": {},
   "outputs": [
    {
     "name": "stdout",
     "output_type": "stream",
     "text": [
      "> \u001b[1;32mc:\\users\\hp\\appdata\\local\\temp\\ipykernel_10360\\1750831854.py\u001b[0m(3)\u001b[0;36msum1\u001b[1;34m()\u001b[0m\n",
      "\n",
      "\n",
      "Documented commands (type help <topic>):\n",
      "========================================\n",
      "EOF    commands   enable      list      pinfo2   rv               unt   \n",
      "a      condition  exceptions  ll        pp       s                until \n",
      "alias  cont       exit        longlist  psource  skip_hidden      up    \n",
      "args   context    h           n         q        skip_predicates  w     \n",
      "b      continue   help        next      quit     source           whatis\n",
      "break  d          ignore      p         r        step             where \n",
      "bt     debug      interact    pdef      restart  tbreak         \n",
      "c      disable    j           pdoc      return   u              \n",
      "cl     display    jump        pfile     retval   unalias        \n",
      "clear  down       l           pinfo     run      undisplay      \n",
      "\n",
      "Miscellaneous help topics:\n",
      "==========================\n",
      "exec  pdb\n",
      "\n",
      "> \u001b[1;32mc:\\users\\hp\\appdata\\local\\temp\\ipykernel_10360\\1750831854.py\u001b[0m(4)\u001b[0;36msum1\u001b[1;34m()\u001b[0m\n",
      "\n"
     ]
    }
   ],
   "source": [
    "def sum1(n):\n",
    "    ipdb.set_trace()\n",
    "    total = 0\n",
    "    for i in n:\n",
    "        total += i**2\n",
    "    return total\n",
    "num = [1,2,3,4]\n",
    "print(sum1(num))"
   ]
  },
  {
   "cell_type": "code",
   "execution_count": 3,
   "metadata": {},
   "outputs": [],
   "source": [
    "import ipdb"
   ]
  },
  {
   "cell_type": "code",
   "execution_count": null,
   "metadata": {},
   "outputs": [
    {
     "name": "stdout",
     "output_type": "stream",
     "text": [
      "> \u001b[1;32mc:\\users\\hp\\appdata\\local\\temp\\ipykernel_17156\\2040252126.py\u001b[0m(3)\u001b[0;36mtest\u001b[1;34m()\u001b[0m\n",
      "\n",
      "> \u001b[1;32mc:\\users\\hp\\appdata\\local\\temp\\ipykernel_17156\\2040252126.py\u001b[0m(4)\u001b[0;36mtest\u001b[1;34m()\u001b[0m\n",
      "\n",
      "> \u001b[1;32mc:\\users\\hp\\appdata\\local\\temp\\ipykernel_17156\\2040252126.py\u001b[0m(5)\u001b[0;36mtest\u001b[1;34m()\u001b[0m\n",
      "\n",
      "> \u001b[1;32mc:\\users\\hp\\appdata\\local\\temp\\ipykernel_17156\\2040252126.py\u001b[0m(6)\u001b[0;36mtest\u001b[1;34m()\u001b[0m\n",
      "\n"
     ]
    }
   ],
   "source": [
    "def test():\n",
    "    ipdb.set_trace()\n",
    "    l = []\n",
    "    for i in range(4):\n",
    "        l.append(i)\n",
    "        print(l)\n",
    "    return l\n",
    "test()"
   ]
  },
  {
   "cell_type": "code",
   "execution_count": null,
   "metadata": {},
   "outputs": [],
   "source": []
  }
 ],
 "metadata": {
  "kernelspec": {
   "display_name": "Python 3",
   "language": "python",
   "name": "python3"
  },
  "language_info": {
   "codemirror_mode": {
    "name": "ipython",
    "version": 3
   },
   "file_extension": ".py",
   "mimetype": "text/x-python",
   "name": "python",
   "nbconvert_exporter": "python",
   "pygments_lexer": "ipython3",
   "version": "3.11.0"
  }
 },
 "nbformat": 4,
 "nbformat_minor": 2
}
